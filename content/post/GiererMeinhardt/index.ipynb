{
 "cells": [
  {
   "attachments": {},
   "cell_type": "markdown",
   "metadata": {},
   "source": [
    "---\n",
    "title: Solving the Gierer-Meinhardt model using Julia\n",
    "subtitle: Learning how to discretize and solve a reaction-diffusion system in Julia\n",
    "summary: Learning how to discretize and solve a reaction-diffusion system in Julia\n",
    "authors:\n",
    "- admin\n",
    "tags: ['Partial Differential Equations', 'Dynamical Systems', 'Julia', 'Coding']\n",
    "categories: []\n",
    "date: \"2023-08-31T00:00:00Z\"\n",
    "lastMod: \"2023-08-31T00:00:00Z\"\n",
    "featured: false\n",
    "draft: false\n",
    "\n",
    "# Featured image\n",
    "# To use, add an image named `featured.jpg/png` to your page's folder. \n",
    "image:\n",
    "  caption: \"\"\n",
    "  focal_point: \"\"\n",
    "\n",
    "# Projects (optional).\n",
    "#   Associate this post with one or more of your projects.\n",
    "#   Simply enter your project's folder or file name without extension.\n",
    "#   E.g. `projects = [\"internal-project\"]` references \n",
    "#   `content/project/deep-learning/index.md`.\n",
    "#   Otherwise, set `projects = []`.\n",
    "projects: []\n",
    "---"
   ]
  },
  {
   "attachments": {},
   "cell_type": "markdown",
   "metadata": {},
   "source": [
    "## Solving the Gierer-Meinhardt model using Julia\n",
    "The Gierer-Meinhardt model is defined as follows: \n",
    "\n",
    "$$ \\frac{\\partial u}{\\partial t} = D_u \\Delta u +  \\rho\\frac{u^2}{h} - \\mu_u u + \\rho_u $$\n",
    "\n",
    "$$ \\frac{\\partial v}{\\partial t} =  D_v \\Delta v + \\rho u^2 - \\mu_v v + \\rho_v \\, ,$$\n",
    "\n",
    "with \n",
    "\n",
    "- $u$ being a short-range autocatalytic substance, or in other words, an activator,\n",
    "- $v$ being its long-range antagonist, or in other words, an inhibitor, and,\n",
    "- $\\Delta = \\sum\\limits_{i = 1}^{n} \\frac{\\partial^2}{\\partial x_i^2}$ being the n-dimensional Laplace operator.\n",
    "\n",
    "In the Gierer-Meinhardt equations, the autocatalytic substance activates both itself and the inhibitor substance (with rate $\\rho u^2)$, whereas the inhibitor substance inhibits the growth of the autocatalytic substance (with rate $\\frac{1}{v})$. Both substances have a natural decay rate of the form $\\mu_u u$ and $\\mu_v v$ respectively. Finally, both substances have an activator-independent production rate ($\\rho_u$ and $\\rho_v$).\n",
    "\n",
    "For the right choice of parameters, pattern formation can be observed in the solution of the Gierer-Meinhardt model.\n",
    "\n",
    "More info on the Gierer-Meinhardt model can be found in [this](http://www.scholarpedia.org/article/Gierer-Meinhardt_model) scholarpedia article.  "
   ]
  },
  {
   "attachments": {},
   "cell_type": "markdown",
   "metadata": {},
   "source": [
    "## Solving the system\n",
    "We'll solve the following IBVP:\n",
    "\n",
    "$$ \\frac{\\partial u}{\\partial t} = D_u \\Delta u +  \\rho\\frac{u^2}{h} - \\mu_u u + \\rho_u $$\n",
    "\n",
    "$$ \\frac{\\partial v}{\\partial t} =  D_v \\Delta v + \\rho u^2 - \\mu_v v + \\rho_v \\; $$\n",
    "\n",
    "$$ u(x,y,0) = \\exp{\\left(-(x-a)^2-(y-a)^2\\right)}, \\quad \\forall (x,y) \\in (0,L)^2$$\n",
    "$$ v(x,y,0) = {\\rm rand}(), \\quad \\forall (x,y) \\in (0,L)^2$$\n",
    "$$ \\frac{\\partial u}{\\partial n}(x,0,t)  = \\frac{\\partial v}{\\partial n}(x,0,t) = 0, \\quad \\forall x \\in [0,L]$$\n",
    "$$ \\frac{\\partial u}{\\partial n}(x,L,t)  = \\frac{\\partial v}{\\partial n}(x,L,t) = 0, \\quad \\forall x \\in [0,L]$$\n",
    "$$ \\frac{\\partial u}{\\partial n}(0,y,t)  = \\frac{\\partial v}{\\partial n}(0,y,t) = 0, \\quad \\forall y \\in [0,L]$$\n",
    "$$ \\frac{\\partial u}{\\partial n}(L,y,t)  = \\frac{\\partial v}{\\partial n}(L,y,t) = 0, \\quad \\forall y \\in [0,L] \\;.$$\n",
    "\n",
    "\n",
    "\n",
    "We start by initializing the parameters"
   ]
  },
  {
   "cell_type": "code",
   "execution_count": 1,
   "metadata": {},
   "outputs": [],
   "source": [
    "Du = 1;\n",
    "Dv = 100;\n",
    "\n",
    "ρ_u = 0.5;\n",
    "ρ_v = 0;\n",
    "ρ = 1;\n",
    "μ_u = 1;\n",
    "μ_v = 6.1;\n",
    "\n",
    "a = 5;\n",
    "\n",
    "L = 100;"
   ]
  },
  {
   "attachments": {},
   "cell_type": "markdown",
   "metadata": {},
   "source": [
    "Then, we discretize the 2D space grid"
   ]
  },
  {
   "cell_type": "code",
   "execution_count": 4,
   "metadata": {},
   "outputs": [],
   "source": [
    "sizez = L;  # size of the 2D grid\n",
    "dx = 100.0 / sizez;  # space step"
   ]
  },
  {
   "attachments": {},
   "cell_type": "markdown",
   "metadata": {},
   "source": [
    "and then we discretize time"
   ]
  },
  {
   "cell_type": "code",
   "execution_count": 5,
   "metadata": {},
   "outputs": [],
   "source": [
    "T = 150.0;  # total time\n",
    "dt = 0.0003;  # time step\n",
    "n = floor(Int, (T / dt));  # number of iterations\n",
    "\n",
    "nvis = 500; # saves every nvis time steps"
   ]
  },
  {
   "attachments": {},
   "cell_type": "markdown",
   "metadata": {},
   "source": [
    "Next we use a random seed in order for the results to be the same across multiple runs and set the initial conditions"
   ]
  },
  {
   "cell_type": "code",
   "execution_count": 6,
   "metadata": {},
   "outputs": [],
   "source": [
    "using Random\n",
    "Random.seed!(1)\n",
    "U = [exp(-(x-a)^2-(y-a)^2) for x in 1:1:sizez, y in 1:1:sizez];\n",
    "V = rand(sizez, sizez);"
   ]
  },
  {
   "cell_type": "markdown",
   "metadata": {},
   "source": [
    "Consequently, we initialize two matrices for the inside of the grid, and five matrices that will help us compute the Laplacian"
   ]
  },
  {
   "cell_type": "code",
   "execution_count": 7,
   "metadata": {},
   "outputs": [],
   "source": [
    "Uc = zeros(Float64, sizez - 2, sizez - 2);\n",
    "Vc = copy(Uc);\n",
    "Ztop = copy(Uc);\n",
    "Zleft = copy(Uc);\n",
    "Zbottom = copy(Uc);\n",
    "Zright = copy(Uc);\n",
    "Zcenter = copy(Uc);"
   ]
  },
  {
   "attachments": {},
   "cell_type": "markdown",
   "metadata": {},
   "source": [
    "Finally, we initialize a 3D matrix, in order to save $u$ every $nvis$ time steps"
   ]
  },
  {
   "cell_type": "code",
   "execution_count": 8,
   "metadata": {},
   "outputs": [],
   "source": [
    "UR = zeros(sizez, sizez, floor(Int, n/nvis));"
   ]
  },
  {
   "attachments": {},
   "cell_type": "markdown",
   "metadata": {},
   "source": [
    "We define a function in order to discretize the Laplacian, using the broadcasting abilities of Julia and the `@views` macro."
   ]
  },
  {
   "cell_type": "code",
   "execution_count": 9,
   "metadata": {},
   "outputs": [
    {
     "data": {
      "text/plain": [
       "DLaplacian (generic function with 1 method)"
      ]
     },
     "metadata": {},
     "output_type": "display_data"
    }
   ],
   "source": [
    "@views function DLaplacian(Z) # Centered differences discretization of the Laplacian\n",
    "    Ztop .= Z[1:end-2, 2:end-1]\n",
    "    Zleft .= Z[2:end-1, 1:end-2]\n",
    "    Zbottom .= Z[3:end, 2:end-1]\n",
    "    Zright .= Z[2:end-1, 3:end]\n",
    "    Zcenter .= Z[2:end-1, 2:end-1]\n",
    "    return (Ztop .+ Zleft .+ Zbottom .+ Zright .- 4 .* Zcenter) ./ (dx^2)\n",
    "end"
   ]
  },
  {
   "attachments": {},
   "cell_type": "markdown",
   "metadata": {},
   "source": [
    "We then proceed to iterate the solution beginning from the second timestep and ending in timestep $n$."
   ]
  },
  {
   "cell_type": "code",
   "execution_count": 10,
   "metadata": {},
   "outputs": [],
   "source": [
    "@views begin\n",
    "    j = 1\n",
    "    for i in 2:n\n",
    "        Uc .= U[2:end-1, 2:end-1]\n",
    "        Vc .= V[2:end-1, 2:end-1]\n",
    "    \n",
    "        U[2:end-1, 2:end-1] .= Uc .+ dt .* (Du .* DLaplacian(U) .+ ρ_u .- μ_u .* Uc .+ ρ.* (Uc.^2)./Vc )\n",
    "        V[2:end-1, 2:end-1] .= Vc .+ dt .* (Dv .* DLaplacian(V) .+ ρ_v .- μ_v .* Vc .+ ρ.* Uc.^2 )\n",
    "    \n",
    "        for Z in (U, V)  # Neumann boundary conditions\n",
    "            Z[1, :] .= Z[2, :]\n",
    "            Z[end, :] .= Z[end-1, :]\n",
    "            Z[:, 1] .= Z[:, 2]\n",
    "            Z[:, end] .= Z[:, end-1]\n",
    "        end\n",
    "\n",
    "        if i%nvis == 0\n",
    "            UR[:,:,j] .= U\n",
    "            j += 1\n",
    "        end\n",
    "    end\n",
    "end"
   ]
  },
  {
   "attachments": {},
   "cell_type": "markdown",
   "metadata": {},
   "source": [
    "We notice interesting spot-like patterns in the solution for $t = 1000 \\cdot dt \\cdot nvis$"
   ]
  },
  {
   "cell_type": "code",
   "execution_count": 24,
   "metadata": {},
   "outputs": [
    {
     "data": {
      "image/png": "[encoded data removed]"
     },
     "metadata": {},
     "output_type": "display_data"
    }
   ],
   "source": [
    "using CairoMakie\n",
    "\n",
    "joint_limits = (0, 17)\n",
    "\n",
    "time_step = 1000\n",
    "time = time_step * dt * nvis\n",
    "\n",
    "fig = Figure(backgroundcolor = \"#9B89B3\",\n",
    "             resolution = (600, 600))\n",
    "ax = Axis(fig[1,1],\n",
    "          title = \"Solution of the Gierer-Meinhardt model \\n for t=$(time)\",\n",
    "          xlabel = \"x\",\n",
    "          ylabel = \"y\")\n",
    "hmr = CairoMakie.heatmap!(ax, UR[:,:,time_step])\n",
    "Colorbar(fig[:,end+1], colorrange = joint_limits, label = L\"U\")\n",
    "fig"
   ]
  },
  {
   "attachments": {},
   "cell_type": "markdown",
   "metadata": {},
   "source": [
    "Of course, if we want to speed things up, we'll want to wrap the above code in a function"
   ]
  },
  {
   "cell_type": "code",
   "execution_count": 1,
   "metadata": {},
   "outputs": [],
   "source": [
    "using Random\n",
    "\n",
    "@views function GiererMeinhardt() \n",
    "    Du = 1;\n",
    "    Dv = 100;\n",
    "    \n",
    "    ρ_u = 0.5;\n",
    "    ρ_v = 0;\n",
    "    ρ = 1;\n",
    "    μ_u = 1;\n",
    "    μ_v = 6.1;\n",
    "    \n",
    "    a = 5;\n",
    "    \n",
    "    L = 100;\n",
    "\n",
    "    nvis = 1000\n",
    "    \n",
    "    sizez = 100  # size of the 2D grid\n",
    "    dx = 100.0 / sizez  # space step\n",
    "    \n",
    "    T = 150.0  # total time\n",
    "    dt = 0.0003  # time step\n",
    "    n = floor(Int, (T / dt))  # number of iterations\n",
    "    \n",
    "    Uc = zeros(Float64, sizez - 2, sizez - 2)\n",
    "    Vc = copy(Uc)\n",
    "    Ztop = copy(Uc)\n",
    "    Zleft = copy(Uc)\n",
    "    Zbottom = copy(Uc)\n",
    "    Zright = copy(Uc)\n",
    "    Zcenter = copy(Uc)\n",
    "\n",
    "    Random.seed!(1)\n",
    "    U = [exp(-(x-a)^2-(y-a)^2) for x in 1:1:sizez, y in 1:1:sizez]\n",
    "    V = fill(1.0, sizez, sizez)\n",
    "\n",
    "    UR = zeros(sizez, sizez, floor(Int, n/nvis))\n",
    "    \n",
    "    function DLaplacian(Z) # Centered differences discretization of the Laplacian\n",
    "        Ztop .= Z[1:end-2, 2:end-1]\n",
    "        Zleft .= Z[2:end-1, 1:end-2]\n",
    "        Zbottom .= Z[3:end, 2:end-1]\n",
    "        Zright .= Z[2:end-1, 3:end]\n",
    "        Zcenter .= Z[2:end-1, 2:end-1]\n",
    "        return (Ztop .+ Zleft .+ Zbottom .+ Zright .- 4 .* Zcenter) ./ (dx^2)\n",
    "    end\n",
    "    \n",
    "    j = 1\n",
    "    for i in 2:n\n",
    "        Uc .= U[2:end-1, 2:end-1]\n",
    "        Vc .= V[2:end-1, 2:end-1]\n",
    "    \n",
    "        U[2:end-1, 2:end-1] .= Uc .+ dt .* (Du .* DLaplacian(U) .+ ρ_u .- μ_u .* Uc .+ ρ.* (Uc.^2)./Vc )\n",
    "        V[2:end-1, 2:end-1] .= Vc .+ dt .* (Dv .* DLaplacian(V) .+ ρ_v .- μ_v .* Vc .+ ρ.* Uc.^2 )\n",
    "    \n",
    "        for Z in (U, V)\n",
    "            Z[1, :] .= Z[2, :]\n",
    "            Z[end, :] .= Z[end-1, :]\n",
    "            Z[:, 1] .= Z[:, 2]\n",
    "            Z[:, end] .= Z[:, end-1]\n",
    "        end\n",
    "\n",
    "        if i%nvis == 0\n",
    "            UR[:,:,j] .= U\n",
    "            j += 1\n",
    "        end\n",
    "    end\n",
    "    return UR\n",
    "end\n",
    "\n",
    "resG = GiererMeinhardt();"
   ]
  },
  {
   "attachments": {},
   "cell_type": "markdown",
   "metadata": {},
   "source": [
    "Finally, we make a nice little video illustrating how the pattern formed"
   ]
  },
  {
   "cell_type": "code",
   "execution_count": 2,
   "metadata": {},
   "outputs": [
    {
     "data": {
      "text/plain": [
       "\"GiererMeinhardt.mp4\""
      ]
     },
     "metadata": {},
     "output_type": "display_data"
    }
   ],
   "source": [
    "using CairoMakie\n",
    "\n",
    "joint_limits = (0, 17)\n",
    "\n",
    "fig = Figure(backgroundcolor = \"#9B89B3\",\n",
    "             resolution = (600, 600))\n",
    "ax = Axis(fig[1,1],\n",
    "          title = \"Solution of the Gierer-Meinhardt model\",\n",
    "          xlabel = \"x\",\n",
    "          ylabel = \"y\")\n",
    "hmr = CairoMakie.heatmap!(ax, resG[:,:,1])\n",
    "Colorbar(fig[:,end+1], colorrange = joint_limits, label = L\"U\")\n",
    "fig\n",
    "\n",
    "nframes = 10\n",
    "framerate = 30\n",
    "iterator = 1:2:500\n",
    "\n",
    "record(fig, \"GiererMeinhardt.mp4\", iterator;\n",
    "        framerate = framerate) do t\n",
    "    CairoMakie.heatmap!(ax, resG[:,:,t], colorrange = joint_limits)\n",
    "end"
   ]
  },
  {
   "attachments": {},
   "cell_type": "markdown",
   "metadata": {},
   "source": [
    "Of course, different initial conditions and parameter values, will change the behavior of the model. So, [download](./index.ipynb) the notebook and do some experimenting!"
   ]
  }
 ],
 "metadata": {
  "kernelspec": {
   "display_name": "Julia 1.8.5",
   "language": "julia",
   "name": "julia-1.8"
  },
  "language_info": {
   "file_extension": ".jl",
   "mimetype": "application/julia",
   "name": "julia",
   "version": "1.8.5"
  },
  "orig_nbformat": 4
 },
 "nbformat": 4,
 "nbformat_minor": 2
}
